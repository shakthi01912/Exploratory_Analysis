{
 "cells": [
  {
   "cell_type": "code",
   "execution_count": 1,
   "metadata": {},
   "outputs": [
    {
     "name": "stdout",
     "output_type": "stream",
     "text": [
      "Partial High School: 24000\n",
      "High School: 41428\n",
      "Partial College: 60000\n",
      "Bachelors: 84666\n",
      "Graduate: 89090\n"
     ]
    }
   ],
   "source": [
    "from scipy import stats\n",
    "import statistics as stat\n",
    "\n",
    "edu_HighSchool = [20000, 30000, 60000, 20000, 40000, 60000, 60000]\n",
    "edu_PartialCollege = [60000, 40000, 30000, 130000, 60000, 40000]\n",
    "edu_PartialHighSchool = [30000, 10000, 10000, 20000, 70000, 30000, 10000, 20000, 10000, 30000]\n",
    "edu_Bachelors = [140000, 20000, 90000, 120000, 60000, 130000, 20000, 106000, 80000, 30000, 100000, 120000]\n",
    "edu_Graduate = [160000, 50000, 80000, 30000, 40000, 80000, 130000, 100000, 130000, 50000, 130000]\n",
    "\n",
    "print('Partial High School:', str(int(stat.mean(edu_PartialHighSchool))))\n",
    "print('High School:', str(int(stat.mean(edu_HighSchool))))\n",
    "print('Partial College:', str(int(stat.mean(edu_PartialCollege))))\n",
    "print('Bachelors:', str(int(stat.mean(edu_Bachelors))))\n",
    "print('Graduate:', str(int(stat.mean(edu_Graduate))))"
   ]
  }
 ],
 "metadata": {
  "kernelspec": {
   "display_name": "venv",
   "language": "python",
   "name": "python3"
  },
  "language_info": {
   "codemirror_mode": {
    "name": "ipython",
    "version": 3
   },
   "file_extension": ".py",
   "mimetype": "text/x-python",
   "name": "python",
   "nbconvert_exporter": "python",
   "pygments_lexer": "ipython3",
   "version": "3.12.8"
  }
 },
 "nbformat": 4,
 "nbformat_minor": 2
}
